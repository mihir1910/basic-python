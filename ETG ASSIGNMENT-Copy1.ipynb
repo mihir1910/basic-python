{
 "cells": [
  {
   "cell_type": "code",
   "execution_count": 1,
   "id": "6e642d83",
   "metadata": {},
   "outputs": [],
   "source": [
    "import json\n",
    "fd=open(\"list.json\",\"w\")"
   ]
  },
  {
   "cell_type": "code",
   "execution_count": 2,
   "id": "747e8283",
   "metadata": {},
   "outputs": [],
   "source": [
    "prod={\n",
    "     10001:{'name':'Kitkat','price':10,'category':'chocolate','expiry date':'20/10/2022','maf date':'05/10/2021','quantity':100},\n",
    "     10002:{'name':'Diary milk','price':10,'category':'chocolate','expiry date':'10/6/2022','maf date':'08/0921','quantity':100},\n",
    "     10003:{'name':'Five star','price':10,'category':'chocolate','expiry date':'15/10/2022','maf date':'06/12/2021','quantity':100},\n",
    "     10004:{'name':'Sneakers','price':30,'category':'chocolate','expiry date':'30/10/2022','maf date':'28/112021','quantity':100},\n",
    "     10005:{'name':'Fuse','price':20,'category':'chocolate','expiry date':'08/10/2022','maf date':'27/102021','quantity':100},\n",
    "     10006:{'name':'Sprite','price':90,'category':'soft drink','expiry date':'05/10/2022','maf date':'25/08/21','quantity':20},\n",
    "     10007:{'name':'Pepsi','price':50,'category':'soft drink','expiry date':'06/10/2022','maf date':'12/05/21','quantity':20},\n",
    "     10008:{'name':'Thums Up','price':80,'category':'soft drink','expiry date':'07/10/2022','maf date':'20/04021','quantity':30},\n",
    "     10009:{'name':'Maaza','price':90,'category':'soft drink','expiry date':'12/10/2022','maf date':'31/02021','quantity':40},\n",
    "     10010:{'name':'Frooti','price':30,'category':'soft drink','expiry date':'11/10/2022','maf date':'21/12/2021','quantity':60},\n",
    "     10011:{'name':'Nirma','price':115,'category':'Washing Powder','expiry date':'14/10/2022','maf date':'14/11/21','quantity':15},\n",
    "     10012:{'name':'Rin','price':20,'category':'Washing Powder','expiry date':'24/10/2022','maf date':'12/102021','quantity':20},\n",
    "     10013:{'name':'Henko','price':150,'category':'Washing Powder','expiry date':'25/10/2022','maf date':'16/102021','quantity':10},\n",
    "     10014:{'name':'Surf Excel','price':90,'category':'Washing Powder','expiry date':'26/10/2022','maf date':'19/102021','quantity':25},\n",
    "     10015:{'name':'Tide','price':110,'category':'Washing Powder','expiry date':'27/10/2022','maf date':'15/102021','quantity':30},\n",
    "     10016:{'name':'Cornetto','price':35,'category':'Ice Cream','expiry date':'28/10/2022','maf date':'15/12/2021','quantity':20},\n",
    "     10017:{'name':'Feast','price':30,'category':'Ice Cream','expiry date':'29/10/2022','maf date':'14/12/2021','quantity':20},\n",
    "     10018:{'name':'Chocobar','price':15,'category':'Ice Cream','expiry date':'20/09/2022','maf date':'12/11/2021','quantity':30},\n",
    "     10019:{'name':'Magnum','price':90,'category':'Ice Cream','expiry date':'10/09/2022','maf date':'28/11/2021','quantity':10},\n",
    "     10020:{'name':'Cup tea','price':10,'category':'Ice Cream','expiry date':'30/09/2022','maf date':'07/11/2021','quantity':50},\n",
    "     10021:{'name':'Oreo','price':30,'category':'Biscuit','expiry date':'12/08/2022','maf date':'08/07/2021','quantity':40},\n",
    "     10022:{'name':'Dark Fantasy','price':30,'category':'Biscuit','expiry date':'22/07/2022','maf date':'09/06/2021','quantity':20},\n",
    "     10023:{'name':'Milano','price':30,'category':'Biscuit','expiry date':'10/06/2022','maf date':'10/06/2021','quantity':10},\n",
    "     10024:{'name':'Hide and Seek','price':60,'category':'Biscuit','expiry date':'14/05/2022','maf date':'11/05/2021','quantity':15},\n",
    "     10025:{'name':'Marie Gold','price':35,'category':'Biscuit','expiry date':'25/04/2022','maf date':'12/02/2021','quantity':25},\n",
    "     10026:{'name':'WOW onion Shampoo','price':350,'category':'Shampoo','expiry date':'31/03/2022','maf date':'14/03/2021','quantity':10},\n",
    "     10027:{'name':'Clinic Plus','price':120,'category':'Shampoo','expiry date':'28/02/2022','maf date':'19/04/2021','quantity':10},\n",
    "     10028:{'name':'Head and shoulders','price':140,'category':'Shampoo','expiry date':'22/01/2022','maf date':'18/02/2021','quantity':20},\n",
    "     10029:{'name':'Mamaearth Shampoo','price':300,'category':'Shampoo','expiry date':'19/12/2022','maf date':'17/12/2021','quantity':5},\n",
    "     10030:{'name':'Pantene','price':210,'category':'Shampoo','expiry date':'20/11/2022','maf date':'16/12/2021','quantity':10}\n",
    "}\n",
    "js=json.dumps(prod)\n",
    "fd.write(js)\n",
    "fd.close()"
   ]
  },
  {
   "cell_type": "code",
   "execution_count": 3,
   "id": "149632fe",
   "metadata": {},
   "outputs": [
    {
     "data": {
      "text/plain": [
       "{10001: {'name': 'Kitkat',\n",
       "  'price': 10,\n",
       "  'category': 'chocolate',\n",
       "  'expiry date': '20/10/2022',\n",
       "  'maf date': '05/10/2021',\n",
       "  'quantity': 100},\n",
       " 10002: {'name': 'Diary milk',\n",
       "  'price': 10,\n",
       "  'category': 'chocolate',\n",
       "  'expiry date': '10/6/2022',\n",
       "  'maf date': '08/0921',\n",
       "  'quantity': 100},\n",
       " 10003: {'name': 'Five star',\n",
       "  'price': 10,\n",
       "  'category': 'chocolate',\n",
       "  'expiry date': '15/10/2022',\n",
       "  'maf date': '06/12/2021',\n",
       "  'quantity': 100},\n",
       " 10004: {'name': 'Sneakers',\n",
       "  'price': 30,\n",
       "  'category': 'chocolate',\n",
       "  'expiry date': '30/10/2022',\n",
       "  'maf date': '28/112021',\n",
       "  'quantity': 100},\n",
       " 10005: {'name': 'Fuse',\n",
       "  'price': 20,\n",
       "  'category': 'chocolate',\n",
       "  'expiry date': '08/10/2022',\n",
       "  'maf date': '27/102021',\n",
       "  'quantity': 100},\n",
       " 10006: {'name': 'Sprite',\n",
       "  'price': 90,\n",
       "  'category': 'soft drink',\n",
       "  'expiry date': '05/10/2022',\n",
       "  'maf date': '25/08/21',\n",
       "  'quantity': 20},\n",
       " 10007: {'name': 'Pepsi',\n",
       "  'price': 50,\n",
       "  'category': 'soft drink',\n",
       "  'expiry date': '06/10/2022',\n",
       "  'maf date': '12/05/21',\n",
       "  'quantity': 20},\n",
       " 10008: {'name': 'Thums Up',\n",
       "  'price': 80,\n",
       "  'category': 'soft drink',\n",
       "  'expiry date': '07/10/2022',\n",
       "  'maf date': '20/04021',\n",
       "  'quantity': 30},\n",
       " 10009: {'name': 'Maaza',\n",
       "  'price': 90,\n",
       "  'category': 'soft drink',\n",
       "  'expiry date': '12/10/2022',\n",
       "  'maf date': '31/02021',\n",
       "  'quantity': 40},\n",
       " 10010: {'name': 'Frooti',\n",
       "  'price': 30,\n",
       "  'category': 'soft drink',\n",
       "  'expiry date': '11/10/2022',\n",
       "  'maf date': '21/12/2021',\n",
       "  'quantity': 60},\n",
       " 10011: {'name': 'Nirma',\n",
       "  'price': 115,\n",
       "  'category': 'Washing Powder',\n",
       "  'expiry date': '14/10/2022',\n",
       "  'maf date': '14/11/21',\n",
       "  'quantity': 15},\n",
       " 10012: {'name': 'Rin',\n",
       "  'price': 20,\n",
       "  'category': 'Washing Powder',\n",
       "  'expiry date': '24/10/2022',\n",
       "  'maf date': '12/102021',\n",
       "  'quantity': 20},\n",
       " 10013: {'name': 'Henko',\n",
       "  'price': 150,\n",
       "  'category': 'Washing Powder',\n",
       "  'expiry date': '25/10/2022',\n",
       "  'maf date': '16/102021',\n",
       "  'quantity': 10},\n",
       " 10014: {'name': 'Surf Excel',\n",
       "  'price': 90,\n",
       "  'category': 'Washing Powder',\n",
       "  'expiry date': '26/10/2022',\n",
       "  'maf date': '19/102021',\n",
       "  'quantity': 25},\n",
       " 10015: {'name': 'Tide',\n",
       "  'price': 110,\n",
       "  'category': 'Washing Powder',\n",
       "  'expiry date': '27/10/2022',\n",
       "  'maf date': '15/102021',\n",
       "  'quantity': 30},\n",
       " 10016: {'name': 'Cornetto',\n",
       "  'price': 35,\n",
       "  'category': 'Ice Cream',\n",
       "  'expiry date': '28/10/2022',\n",
       "  'maf date': '15/12/2021',\n",
       "  'quantity': 20},\n",
       " 10017: {'name': 'Feast',\n",
       "  'price': 30,\n",
       "  'category': 'Ice Cream',\n",
       "  'expiry date': '29/10/2022',\n",
       "  'maf date': '14/12/2021',\n",
       "  'quantity': 20},\n",
       " 10018: {'name': 'Chocobar',\n",
       "  'price': 15,\n",
       "  'category': 'Ice Cream',\n",
       "  'expiry date': '20/09/2022',\n",
       "  'maf date': '12/11/2021',\n",
       "  'quantity': 30},\n",
       " 10019: {'name': 'Magnum',\n",
       "  'price': 90,\n",
       "  'category': 'Ice Cream',\n",
       "  'expiry date': '10/09/2022',\n",
       "  'maf date': '28/11/2021',\n",
       "  'quantity': 10},\n",
       " 10020: {'name': 'Cup tea',\n",
       "  'price': 10,\n",
       "  'category': 'Ice Cream',\n",
       "  'expiry date': '30/09/2022',\n",
       "  'maf date': '07/11/2021',\n",
       "  'quantity': 50},\n",
       " 10021: {'name': 'Oreo',\n",
       "  'price': 30,\n",
       "  'category': 'Biscuit',\n",
       "  'expiry date': '12/08/2022',\n",
       "  'maf date': '08/07/2021',\n",
       "  'quantity': 40},\n",
       " 10022: {'name': 'Dark Fantasy',\n",
       "  'price': 30,\n",
       "  'category': 'Biscuit',\n",
       "  'expiry date': '22/07/2022',\n",
       "  'maf date': '09/06/2021',\n",
       "  'quantity': 20},\n",
       " 10023: {'name': 'Milano',\n",
       "  'price': 30,\n",
       "  'category': 'Biscuit',\n",
       "  'expiry date': '10/06/2022',\n",
       "  'maf date': '10/06/2021',\n",
       "  'quantity': 10},\n",
       " 10024: {'name': 'Hide and Seek',\n",
       "  'price': 60,\n",
       "  'category': 'Biscuit',\n",
       "  'expiry date': '14/05/2022',\n",
       "  'maf date': '11/05/2021',\n",
       "  'quantity': 15},\n",
       " 10025: {'name': 'Marie Gold',\n",
       "  'price': 35,\n",
       "  'category': 'Biscuit',\n",
       "  'expiry date': '25/04/2022',\n",
       "  'maf date': '12/02/2021',\n",
       "  'quantity': 25},\n",
       " 10026: {'name': 'WOW onion Shampoo',\n",
       "  'price': 350,\n",
       "  'category': 'Shampoo',\n",
       "  'expiry date': '31/03/2022',\n",
       "  'maf date': '14/03/2021',\n",
       "  'quantity': 10},\n",
       " 10027: {'name': 'Clinic Plus',\n",
       "  'price': 120,\n",
       "  'category': 'Shampoo',\n",
       "  'expiry date': '28/02/2022',\n",
       "  'maf date': '19/04/2021',\n",
       "  'quantity': 10},\n",
       " 10028: {'name': 'Head and shoulders',\n",
       "  'price': 140,\n",
       "  'category': 'Shampoo',\n",
       "  'expiry date': '22/01/2022',\n",
       "  'maf date': '18/02/2021',\n",
       "  'quantity': 20},\n",
       " 10029: {'name': 'Mamaearth Shampoo',\n",
       "  'price': 300,\n",
       "  'category': 'Shampoo',\n",
       "  'expiry date': '19/12/2022',\n",
       "  'maf date': '17/12/2021',\n",
       "  'quantity': 5},\n",
       " 10030: {'name': 'Pantene',\n",
       "  'price': 210,\n",
       "  'category': 'Shampoo',\n",
       "  'expiry date': '20/11/2022',\n",
       "  'maf date': '16/12/2021',\n",
       "  'quantity': 10}}"
      ]
     },
     "execution_count": 3,
     "metadata": {},
     "output_type": "execute_result"
    }
   ],
   "source": [
    "prod"
   ]
  },
  {
   "cell_type": "code",
   "execution_count": 4,
   "id": "c030c764",
   "metadata": {},
   "outputs": [
    {
     "data": {
      "text/plain": [
       "dict"
      ]
     },
     "execution_count": 4,
     "metadata": {},
     "output_type": "execute_result"
    }
   ],
   "source": [
    "type(prod)"
   ]
  },
  {
   "cell_type": "code",
   "execution_count": 5,
   "id": "7a4f2cca",
   "metadata": {},
   "outputs": [],
   "source": [
    "js=json.dumps(prod)"
   ]
  },
  {
   "cell_type": "code",
   "execution_count": 6,
   "id": "a20d2ee9",
   "metadata": {},
   "outputs": [
    {
     "data": {
      "text/plain": [
       "'{\"10001\": {\"name\": \"Kitkat\", \"price\": 10, \"category\": \"chocolate\", \"expiry date\": \"20/10/2022\", \"maf date\": \"05/10/2021\", \"quantity\": 100}, \"10002\": {\"name\": \"Diary milk\", \"price\": 10, \"category\": \"chocolate\", \"expiry date\": \"10/6/2022\", \"maf date\": \"08/0921\", \"quantity\": 100}, \"10003\": {\"name\": \"Five star\", \"price\": 10, \"category\": \"chocolate\", \"expiry date\": \"15/10/2022\", \"maf date\": \"06/12/2021\", \"quantity\": 100}, \"10004\": {\"name\": \"Sneakers\", \"price\": 30, \"category\": \"chocolate\", \"expiry date\": \"30/10/2022\", \"maf date\": \"28/112021\", \"quantity\": 100}, \"10005\": {\"name\": \"Fuse\", \"price\": 20, \"category\": \"chocolate\", \"expiry date\": \"08/10/2022\", \"maf date\": \"27/102021\", \"quantity\": 100}, \"10006\": {\"name\": \"Sprite\", \"price\": 90, \"category\": \"soft drink\", \"expiry date\": \"05/10/2022\", \"maf date\": \"25/08/21\", \"quantity\": 20}, \"10007\": {\"name\": \"Pepsi\", \"price\": 50, \"category\": \"soft drink\", \"expiry date\": \"06/10/2022\", \"maf date\": \"12/05/21\", \"quantity\": 20}, \"10008\": {\"name\": \"Thums Up\", \"price\": 80, \"category\": \"soft drink\", \"expiry date\": \"07/10/2022\", \"maf date\": \"20/04021\", \"quantity\": 30}, \"10009\": {\"name\": \"Maaza\", \"price\": 90, \"category\": \"soft drink\", \"expiry date\": \"12/10/2022\", \"maf date\": \"31/02021\", \"quantity\": 40}, \"10010\": {\"name\": \"Frooti\", \"price\": 30, \"category\": \"soft drink\", \"expiry date\": \"11/10/2022\", \"maf date\": \"21/12/2021\", \"quantity\": 60}, \"10011\": {\"name\": \"Nirma\", \"price\": 115, \"category\": \"Washing Powder\", \"expiry date\": \"14/10/2022\", \"maf date\": \"14/11/21\", \"quantity\": 15}, \"10012\": {\"name\": \"Rin\", \"price\": 20, \"category\": \"Washing Powder\", \"expiry date\": \"24/10/2022\", \"maf date\": \"12/102021\", \"quantity\": 20}, \"10013\": {\"name\": \"Henko\", \"price\": 150, \"category\": \"Washing Powder\", \"expiry date\": \"25/10/2022\", \"maf date\": \"16/102021\", \"quantity\": 10}, \"10014\": {\"name\": \"Surf Excel\", \"price\": 90, \"category\": \"Washing Powder\", \"expiry date\": \"26/10/2022\", \"maf date\": \"19/102021\", \"quantity\": 25}, \"10015\": {\"name\": \"Tide\", \"price\": 110, \"category\": \"Washing Powder\", \"expiry date\": \"27/10/2022\", \"maf date\": \"15/102021\", \"quantity\": 30}, \"10016\": {\"name\": \"Cornetto\", \"price\": 35, \"category\": \"Ice Cream\", \"expiry date\": \"28/10/2022\", \"maf date\": \"15/12/2021\", \"quantity\": 20}, \"10017\": {\"name\": \"Feast\", \"price\": 30, \"category\": \"Ice Cream\", \"expiry date\": \"29/10/2022\", \"maf date\": \"14/12/2021\", \"quantity\": 20}, \"10018\": {\"name\": \"Chocobar\", \"price\": 15, \"category\": \"Ice Cream\", \"expiry date\": \"20/09/2022\", \"maf date\": \"12/11/2021\", \"quantity\": 30}, \"10019\": {\"name\": \"Magnum\", \"price\": 90, \"category\": \"Ice Cream\", \"expiry date\": \"10/09/2022\", \"maf date\": \"28/11/2021\", \"quantity\": 10}, \"10020\": {\"name\": \"Cup tea\", \"price\": 10, \"category\": \"Ice Cream\", \"expiry date\": \"30/09/2022\", \"maf date\": \"07/11/2021\", \"quantity\": 50}, \"10021\": {\"name\": \"Oreo\", \"price\": 30, \"category\": \"Biscuit\", \"expiry date\": \"12/08/2022\", \"maf date\": \"08/07/2021\", \"quantity\": 40}, \"10022\": {\"name\": \"Dark Fantasy\", \"price\": 30, \"category\": \"Biscuit\", \"expiry date\": \"22/07/2022\", \"maf date\": \"09/06/2021\", \"quantity\": 20}, \"10023\": {\"name\": \"Milano\", \"price\": 30, \"category\": \"Biscuit\", \"expiry date\": \"10/06/2022\", \"maf date\": \"10/06/2021\", \"quantity\": 10}, \"10024\": {\"name\": \"Hide and Seek\", \"price\": 60, \"category\": \"Biscuit\", \"expiry date\": \"14/05/2022\", \"maf date\": \"11/05/2021\", \"quantity\": 15}, \"10025\": {\"name\": \"Marie Gold\", \"price\": 35, \"category\": \"Biscuit\", \"expiry date\": \"25/04/2022\", \"maf date\": \"12/02/2021\", \"quantity\": 25}, \"10026\": {\"name\": \"WOW onion Shampoo\", \"price\": 350, \"category\": \"Shampoo\", \"expiry date\": \"31/03/2022\", \"maf date\": \"14/03/2021\", \"quantity\": 10}, \"10027\": {\"name\": \"Clinic Plus\", \"price\": 120, \"category\": \"Shampoo\", \"expiry date\": \"28/02/2022\", \"maf date\": \"19/04/2021\", \"quantity\": 10}, \"10028\": {\"name\": \"Head and shoulders\", \"price\": 140, \"category\": \"Shampoo\", \"expiry date\": \"22/01/2022\", \"maf date\": \"18/02/2021\", \"quantity\": 20}, \"10029\": {\"name\": \"Mamaearth Shampoo\", \"price\": 300, \"category\": \"Shampoo\", \"expiry date\": \"19/12/2022\", \"maf date\": \"17/12/2021\", \"quantity\": 5}, \"10030\": {\"name\": \"Pantene\", \"price\": 210, \"category\": \"Shampoo\", \"expiry date\": \"20/11/2022\", \"maf date\": \"16/12/2021\", \"quantity\": 10}}'"
      ]
     },
     "execution_count": 6,
     "metadata": {},
     "output_type": "execute_result"
    }
   ],
   "source": [
    "js"
   ]
  },
  {
   "cell_type": "code",
   "execution_count": 7,
   "id": "70592253",
   "metadata": {},
   "outputs": [
    {
     "data": {
      "text/plain": [
       "str"
      ]
     },
     "execution_count": 7,
     "metadata": {},
     "output_type": "execute_result"
    }
   ],
   "source": [
    "type(js)"
   ]
  },
  {
   "cell_type": "code",
   "execution_count": 8,
   "id": "a5790de8",
   "metadata": {},
   "outputs": [],
   "source": [
    "fd=open('list.json','r')\n",
    "txt=fd.read()\n",
    "fd.close()\n",
    "prod=json.loads(txt)\n",
    "\n"
   ]
  },
  {
   "cell_type": "code",
   "execution_count": 9,
   "id": "d8e922dc",
   "metadata": {},
   "outputs": [
    {
     "name": "stdout",
     "output_type": "stream",
     "text": [
      "           MENU      \n",
      "product_id     product_name\n",
      "\n",
      "10001      Kitkat\n",
      "10002      Diary milk\n",
      "10003      Five star\n",
      "10004      Sneakers\n",
      "10005      Fuse\n",
      "10006      Sprite\n",
      "10007      Pepsi\n",
      "10008      Thums Up\n",
      "10009      Maaza\n",
      "10010      Frooti\n",
      "10011      Nirma\n",
      "10012      Rin\n",
      "10013      Henko\n",
      "10014      Surf Excel\n",
      "10015      Tide\n",
      "10016      Cornetto\n",
      "10017      Feast\n",
      "10018      Chocobar\n",
      "10019      Magnum\n",
      "10020      Cup tea\n",
      "10021      Oreo\n",
      "10022      Dark Fantasy\n",
      "10023      Milano\n",
      "10024      Hide and Seek\n",
      "10025      Marie Gold\n",
      "10026      WOW onion Shampoo\n",
      "10027      Clinic Plus\n",
      "10028      Head and shoulders\n",
      "10029      Mamaearth Shampoo\n",
      "10030      Pantene\n"
     ]
    }
   ],
   "source": [
    "print(\"           MENU      \")\n",
    "print(\"product_id     product_name\",end=\"\\n\\n\")\n",
    "for  i in prod.keys():\n",
    "    print(i,\"    \",prod[i]['name'])"
   ]
  },
  {
   "cell_type": "code",
   "execution_count": 10,
   "id": "2277cdd4",
   "metadata": {},
   "outputs": [
    {
     "data": {
      "text/plain": [
       "str"
      ]
     },
     "execution_count": 10,
     "metadata": {},
     "output_type": "execute_result"
    }
   ],
   "source": [
    "type(js)"
   ]
  },
  {
   "cell_type": "code",
   "execution_count": 12,
   "id": "026134a4",
   "metadata": {},
   "outputs": [
    {
     "name": "stdout",
     "output_type": "stream",
     "text": [
      "Enter the product_Id: 10029\n",
      "Enter the quantity: 2\n",
      "Product:  Mamaearth Shampoo\n",
      "Price:  300\n",
      "Billing Amount:  600\n"
     ]
    }
   ],
   "source": [
    "ui_prod  = str(input(\"Enter the product_Id: \"))\n",
    "ui_quant = int(input(\"Enter the quantity: \"))\n",
    "\n",
    "\n",
    "print(\"Product: \", prod[ui_prod]['name'])\n",
    "print(\"Price: \", prod[ui_prod]['price'])\n",
    "print(\"Billing Amount: \", prod[ui_prod]['price'] * ui_quant)\n",
    "\n",
    "prod[ui_prod]['quantity'] = prod[ui_prod]['quantity'] - ui_quant"
   ]
  },
  {
   "cell_type": "code",
   "execution_count": 13,
   "id": "c1145560",
   "metadata": {},
   "outputs": [],
   "source": [
    "jp=json.dumps(prod)\n",
    "\n",
    "f=open(\"prod.json\",'w')\n",
    "f.write(jp)\n",
    "f.close()"
   ]
  },
  {
   "cell_type": "code",
   "execution_count": null,
   "id": "e2fa4880",
   "metadata": {},
   "outputs": [],
   "source": []
  },
  {
   "cell_type": "code",
   "execution_count": 14,
   "id": "710c504d",
   "metadata": {},
   "outputs": [
    {
     "data": {
      "text/plain": [
       "{'product': '10029', 'quantity': 2, 'amount': 600}"
      ]
     },
     "execution_count": 14,
     "metadata": {},
     "output_type": "execute_result"
    }
   ],
   "source": [
    "{'product' : ui_prod, 'quantity' : ui_quant, 'amount': prod[ui_prod]['price'] * ui_quant}"
   ]
  },
  {
   "cell_type": "code",
   "execution_count": 18,
   "id": "bba321a1",
   "metadata": {},
   "outputs": [],
   "source": [
    "sales = {1 : {'product' : ui_prod, 'quantity' : ui_quant, 'amount': prod[ui_prod]['price'] * ui_quant},\n",
    "         2 : {'product' : ui_prod, 'quantity' : ui_quant, 'amount': prod[ui_prod]['price'] * ui_quant},\n",
    "         3 : {'product' : ui_prod, 'quantity' : ui_quant, 'amount': prod[ui_prod]['price'] * ui_quant}}"
   ]
  },
  {
   "cell_type": "code",
   "execution_count": 19,
   "id": "a95990f1",
   "metadata": {},
   "outputs": [],
   "source": [
    "sale=json.dumps(sales)"
   ]
  },
  {
   "cell_type": "code",
   "execution_count": 20,
   "id": "49835ce5",
   "metadata": {},
   "outputs": [
    {
     "data": {
      "text/plain": [
       "'{\"1\": {\"product\": \"10029\", \"quantity\": 2, \"amount\": 600}, \"2\": {\"product\": \"10029\", \"quantity\": 2, \"amount\": 600}, \"3\": {\"product\": \"10029\", \"quantity\": 2, \"amount\": 600}}'"
      ]
     },
     "execution_count": 20,
     "metadata": {},
     "output_type": "execute_result"
    }
   ],
   "source": [
    "sale"
   ]
  },
  {
   "cell_type": "code",
   "execution_count": null,
   "id": "d0333e61",
   "metadata": {},
   "outputs": [],
   "source": []
  }
 ],
 "metadata": {
  "kernelspec": {
   "display_name": "Python 3",
   "language": "python",
   "name": "python3"
  },
  "language_info": {
   "codemirror_mode": {
    "name": "ipython",
    "version": 3
   },
   "file_extension": ".py",
   "mimetype": "text/x-python",
   "name": "python",
   "nbconvert_exporter": "python",
   "pygments_lexer": "ipython3",
   "version": "3.8.8"
  }
 },
 "nbformat": 4,
 "nbformat_minor": 5
}
